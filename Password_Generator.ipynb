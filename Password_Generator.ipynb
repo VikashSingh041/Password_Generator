{
  "nbformat": 4,
  "nbformat_minor": 0,
  "metadata": {
    "colab": {
      "provenance": [],
      "authorship_tag": "ABX9TyO5Tip1QuU7qg2aGhADXoB2",
      "include_colab_link": true
    },
    "kernelspec": {
      "name": "python3",
      "display_name": "Python 3"
    },
    "language_info": {
      "name": "python"
    }
  },
  "cells": [
    {
      "cell_type": "markdown",
      "metadata": {
        "id": "view-in-github",
        "colab_type": "text"
      },
      "source": [
        "<a href=\"https://colab.research.google.com/github/VikashSingh041/Password_Generator/blob/main/Password_Generator.ipynb\" target=\"_parent\"><img src=\"https://colab.research.google.com/assets/colab-badge.svg\" alt=\"Open In Colab\"/></a>"
      ]
    },
    {
      "cell_type": "code",
      "source": [
        "import random\n",
        "\n",
        "letters = ['a', 'b', 'c', 'd', 'e', 'f', 'g', 'h', 'i', 'j', 'k', 'l', 'm', 'n', 'o', 'p', 'q', 'r', 's', 't', 'u', 'v', 'w', 'x', 'y', 'z',\n",
        "           'A', 'B', 'C', 'D', 'E', 'F', 'G', 'H', 'I', 'J', 'K', 'L', 'M', 'N', 'O', 'P', 'Q', 'R', 'S', 'T', 'U', 'V', 'W', 'X', 'Y', 'Z']\n",
        "numbers = ['0', '1', '2', '3', '4', '5', '6', '7', '8', '9']\n",
        "symbols = ['!', '#', '$', '%', '&', '(', ')', '*', '+']\n",
        "\n",
        "print(\"Welcome to the PyPassword Generator!\")\n",
        "nr_letters = int(input(\"How many letters would you like in your password?\\n\"))\n",
        "nr_symbols = int(input(\"How many symbols would you like?\\n\"))\n",
        "nr_numbers = int(input(\"How many numbers would you like?\\n\"))\n",
        "\n",
        "# **Easy Level - Ordered Password (Not Randomized)**\n",
        "password = \"\"\n",
        "\n",
        "for _ in range(nr_letters):\n",
        "    password += random.choice(letters)\n",
        "\n",
        "for _ in range(nr_symbols):\n",
        "    password += random.choice(symbols)\n",
        "\n",
        "for _ in range(nr_numbers):\n",
        "    password += random.choice(numbers)\n",
        "\n",
        "print(f\"Easy Password: {password}\")\n",
        "\n",
        "# **Hard Level - Randomized Order**\n",
        "password_list = []\n",
        "\n",
        "for _ in range(nr_letters):\n",
        "    password_list.append(random.choice(letters))\n",
        "\n",
        "for _ in range(nr_symbols):\n",
        "    password_list.append(random.choice(symbols))\n",
        "\n",
        "for _ in range(nr_numbers):\n",
        "    password_list.append(random.choice(numbers))\n",
        "\n",
        "# Shuffling the list to randomize the order\n",
        "random.shuffle(password_list)\n",
        "\n",
        "# Converting list to string\n",
        "hard_password = \"\".join(password_list)\n",
        "\n",
        "print(f\"Hard Password: {hard_password}\")\n"
      ],
      "metadata": {
        "colab": {
          "base_uri": "https://localhost:8080/"
        },
        "id": "XUYNIMQ4t-12",
        "outputId": "d30928ca-a7de-486a-8ec7-58b0df88f187"
      },
      "execution_count": 8,
      "outputs": [
        {
          "output_type": "stream",
          "name": "stdout",
          "text": [
            "Welcome to the PyPassword Generator!\n",
            "How many letters would you like in your password?\n",
            "2\n",
            "How many symbols would you like?\n",
            "4\n",
            "How many numbers would you like?\n",
            "4\n",
            "Easy Password: TJ&%+!9395\n",
            "Hard Password: 001#)#0)KZ\n"
          ]
        }
      ]
    },
    {
      "cell_type": "code",
      "source": [],
      "metadata": {
        "id": "-kMlsucPvAXB"
      },
      "execution_count": null,
      "outputs": []
    }
  ]
}